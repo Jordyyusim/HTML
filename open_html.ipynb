{
 "cells": [
  {
   "cell_type": "code",
   "execution_count": null,
   "metadata": {},
   "outputs": [],
   "source": [
    "from bs4 import BeautifulSoup\n",
    "\n",
    "html = open('3.html', 'r')\n",
    "soup = BeautifulSoup(html, 'html.parser')\n",
    "\n",
    "print(soup)\n",
    "print(soup.p)\n",
    "print(soup.ul.text)\n",
    "print(soup.find('ul'))\n",
    "print(soup.find('ul').text)\n",
    "print(soup.find_all('li'))\n",
    "\n",
    "for i in soup.find_all('li'):\n",
    "    print(i.text)\n",
    "\n",
    "print(soup.find(class_ = \"students\"))\n",
    "print(soup.find(id = 1))"
   ]
  }
 ],
 "metadata": {
  "kernelspec": {
   "display_name": "Python 3",
   "language": "python",
   "name": "python3"
  },
  "language_info": {
   "codemirror_mode": {
    "name": "ipython",
    "version": 3
   },
   "file_extension": ".py",
   "mimetype": "text/x-python",
   "name": "python",
   "nbconvert_exporter": "python",
   "pygments_lexer": "ipython3",
   "version": "3.8.1"
  }
 },
 "nbformat": 4,
 "nbformat_minor": 4
}
